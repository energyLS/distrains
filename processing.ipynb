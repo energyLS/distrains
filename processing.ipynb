{
 "cells": [
  {
   "attachments": {},
   "cell_type": "markdown",
   "metadata": {},
   "source": [
    "## Investigate and rank distance between scottish destilleries and train stops\n",
    "\n",
    "Data of Scottish whisky distilleries:\n",
    "https://raw.githubusercontent.com/mhamilt/completely-smashed/main/completely-smashed.geojson"
   ]
  },
  {
   "cell_type": "code",
   "execution_count": 1,
   "metadata": {},
   "outputs": [],
   "source": [
    "import pandas as pd\n",
    "import geopandas as gpd"
   ]
  },
  {
   "attachments": {},
   "cell_type": "markdown",
   "metadata": {},
   "source": [
    "Read distillery data"
   ]
  },
  {
   "cell_type": "code",
   "execution_count": 2,
   "metadata": {},
   "outputs": [],
   "source": [
    "try:\n",
    "    distilleries = gpd.read_file('https://raw.githubusercontent.com/mhamilt/completely-smashed/main/completely-smashed.geojson')\n",
    "except:\n",
    "    # Fallback to local data\n",
    "    distilleries = gpd.read_file('data/completely-smashed.geojson')"
   ]
  },
  {
   "attachments": {},
   "cell_type": "markdown",
   "metadata": {},
   "source": [
    "Prepare distillery data"
   ]
  },
  {
   "cell_type": "code",
   "execution_count": 3,
   "metadata": {},
   "outputs": [],
   "source": [
    "# Manipulate data of Dalwhinnie Distillery, which is sligthly off. Actual position is at 56.939655,-4.2430025 (train station 56.934334,-4.246498)\n",
    "distilleries.set_index([\"Name\"], inplace=True)\n",
    "distilleries.at['Dalwhinnie Distillery', 'Lat'] = 56.939655\n",
    "distilleries.at['Dalwhinnie Distillery', 'Lng'] = -4.2430025\n",
    "\n",
    "# Delete one Loch Lomond distillery, this is a duplicate in the dataset\n",
    "distilleries.drop(\"Loch Lomond Distillery (1)\", inplace=True)"
   ]
  },
  {
   "cell_type": "code",
   "execution_count": 4,
   "metadata": {},
   "outputs": [],
   "source": [
    "distilleries.geometry=gpd.points_from_xy(distilleries.Lng, distilleries.Lat)"
   ]
  },
  {
   "cell_type": "code",
   "execution_count": 5,
   "metadata": {},
   "outputs": [],
   "source": [
    "distilleries.to_crs(epsg=27700, inplace=True)"
   ]
  },
  {
   "attachments": {},
   "cell_type": "markdown",
   "metadata": {},
   "source": [
    "Read UK train stops data"
   ]
  },
  {
   "cell_type": "code",
   "execution_count": 6,
   "metadata": {},
   "outputs": [],
   "source": [
    "try:\n",
    "    uk_stations = pd.read_csv('https://raw.githubusercontent.com/davwheat/uk-railway-stations/main/stations.csv', index_col=0)\n",
    "except:\n",
    "    uk_stations = pd.read_csv('data/stations.csv', index_col=0)"
   ]
  },
  {
   "attachments": {},
   "cell_type": "markdown",
   "metadata": {},
   "source": [
    "Prepare UK train stops data"
   ]
  },
  {
   "cell_type": "code",
   "execution_count": 7,
   "metadata": {},
   "outputs": [],
   "source": [
    "uk_stations = gpd.GeoDataFrame(uk_stations, geometry=gpd.points_from_xy(uk_stations.long, uk_stations.lat))\n",
    "uk_stations.set_crs('EPSG:4326', inplace=True)\n",
    "uk_stations.to_crs(epsg=27700, inplace=True)"
   ]
  },
  {
   "cell_type": "markdown",
   "metadata": {},
   "source": [
    "Find closest train stop to each distillery"
   ]
  },
  {
   "cell_type": "code",
   "execution_count": 8,
   "metadata": {},
   "outputs": [],
   "source": [
    "distilleries_stops = distilleries.sjoin_nearest(uk_stations, distance_col=\"Distance in m\")"
   ]
  },
  {
   "cell_type": "markdown",
   "metadata": {},
   "source": [
    "Sort by distance & round"
   ]
  },
  {
   "cell_type": "code",
   "execution_count": 9,
   "metadata": {},
   "outputs": [],
   "source": [
    "distilleries_stops = distilleries_stops.sort_values(by=[\"Distance in m\"])\n",
    "distilleries_stops[\"Distance in m\"] = round(distilleries_stops[\"Distance in m\"]).astype(int)"
   ]
  },
  {
   "cell_type": "markdown",
   "metadata": {},
   "source": [
    "Filter columns and rename"
   ]
  },
  {
   "cell_type": "code",
   "execution_count": 10,
   "metadata": {},
   "outputs": [],
   "source": [
    "distilleries_stops = distilleries_stops[[\"Owner\", \"Description\", \"Url\", \"Address\", \"index_right\", \"Distance in m\", \"geometry\"]].rename(columns={\"index_right\": \"Trainstop\"})"
   ]
  },
  {
   "attachments": {},
   "cell_type": "markdown",
   "metadata": {},
   "source": [
    "Provide basic statistics"
   ]
  },
  {
   "cell_type": "code",
   "execution_count": 11,
   "metadata": {},
   "outputs": [
    {
     "data": {
      "text/html": [
       "<div>\n",
       "<style scoped>\n",
       "    .dataframe tbody tr th:only-of-type {\n",
       "        vertical-align: middle;\n",
       "    }\n",
       "\n",
       "    .dataframe tbody tr th {\n",
       "        vertical-align: top;\n",
       "    }\n",
       "\n",
       "    .dataframe thead th {\n",
       "        text-align: right;\n",
       "    }\n",
       "</style>\n",
       "<table border=\"1\" class=\"dataframe\">\n",
       "  <thead>\n",
       "    <tr style=\"text-align: right;\">\n",
       "      <th></th>\n",
       "      <th>Distance in m</th>\n",
       "    </tr>\n",
       "  </thead>\n",
       "  <tbody>\n",
       "    <tr>\n",
       "      <th>count</th>\n",
       "      <td>136.000000</td>\n",
       "    </tr>\n",
       "    <tr>\n",
       "      <th>mean</th>\n",
       "      <td>19132.132353</td>\n",
       "    </tr>\n",
       "    <tr>\n",
       "      <th>std</th>\n",
       "      <td>24165.996763</td>\n",
       "    </tr>\n",
       "    <tr>\n",
       "      <th>min</th>\n",
       "      <td>383.000000</td>\n",
       "    </tr>\n",
       "    <tr>\n",
       "      <th>25%</th>\n",
       "      <td>2916.750000</td>\n",
       "    </tr>\n",
       "    <tr>\n",
       "      <th>50%</th>\n",
       "      <td>10781.000000</td>\n",
       "    </tr>\n",
       "    <tr>\n",
       "      <th>75%</th>\n",
       "      <td>23561.000000</td>\n",
       "    </tr>\n",
       "    <tr>\n",
       "      <th>max</th>\n",
       "      <td>123371.000000</td>\n",
       "    </tr>\n",
       "  </tbody>\n",
       "</table>\n",
       "</div>"
      ],
      "text/plain": [
       "       Distance in m\n",
       "count     136.000000\n",
       "mean    19132.132353\n",
       "std     24165.996763\n",
       "min       383.000000\n",
       "25%      2916.750000\n",
       "50%     10781.000000\n",
       "75%     23561.000000\n",
       "max    123371.000000"
      ]
     },
     "execution_count": 11,
     "metadata": {},
     "output_type": "execute_result"
    }
   ],
   "source": [
    "distilleries_stops.describe()"
   ]
  },
  {
   "cell_type": "code",
   "execution_count": 12,
   "metadata": {},
   "outputs": [
    {
     "data": {
      "text/html": [
       "<div>\n",
       "<style scoped>\n",
       "    .dataframe tbody tr th:only-of-type {\n",
       "        vertical-align: middle;\n",
       "    }\n",
       "\n",
       "    .dataframe tbody tr th {\n",
       "        vertical-align: top;\n",
       "    }\n",
       "\n",
       "    .dataframe thead th {\n",
       "        text-align: right;\n",
       "    }\n",
       "</style>\n",
       "<table border=\"1\" class=\"dataframe\">\n",
       "  <thead>\n",
       "    <tr style=\"text-align: right;\">\n",
       "      <th></th>\n",
       "      <th>Owner</th>\n",
       "      <th>Description</th>\n",
       "      <th>Url</th>\n",
       "      <th>Address</th>\n",
       "      <th>Trainstop</th>\n",
       "      <th>Distance in m</th>\n",
       "      <th>geometry</th>\n",
       "    </tr>\n",
       "    <tr>\n",
       "      <th>Name</th>\n",
       "      <th></th>\n",
       "      <th></th>\n",
       "      <th></th>\n",
       "      <th></th>\n",
       "      <th></th>\n",
       "      <th></th>\n",
       "      <th></th>\n",
       "    </tr>\n",
       "  </thead>\n",
       "  <tbody>\n",
       "    <tr>\n",
       "      <th>Oban Distillery</th>\n",
       "      <td>Diageo plc</td>\n",
       "      <td>Highland Malt</td>\n",
       "      <td>https://www.malts.com/en-row/distilleries/oban/</td>\n",
       "      <td></td>\n",
       "      <td>Oban</td>\n",
       "      <td>383</td>\n",
       "      <td>POINT (185922.846 730169.492)</td>\n",
       "    </tr>\n",
       "    <tr>\n",
       "      <th>The Borders Distillery</th>\n",
       "      <td>Three Stills Company Ltd</td>\n",
       "      <td>Lowland Malt</td>\n",
       "      <td>https://www.thebordersdistillery.com/</td>\n",
       "      <td></td>\n",
       "      <td>Hawick</td>\n",
       "      <td>461</td>\n",
       "      <td>POINT (350163.815 614729.139)</td>\n",
       "    </tr>\n",
       "    <tr>\n",
       "      <th>Strathisla Distillery</th>\n",
       "      <td>Chivas Brothers Ltd</td>\n",
       "      <td>Speyside Malt</td>\n",
       "      <td>https://www.maltwhiskydistilleries.com/strathi...</td>\n",
       "      <td></td>\n",
       "      <td>Keith</td>\n",
       "      <td>549</td>\n",
       "      <td>POINT (343035.051 851062.124)</td>\n",
       "    </tr>\n",
       "    <tr>\n",
       "      <th>Glen Keith Distillery</th>\n",
       "      <td>Chivas Brothers Ltd</td>\n",
       "      <td>Speyside Malt</td>\n",
       "      <td></td>\n",
       "      <td></td>\n",
       "      <td>Keith</td>\n",
       "      <td>615</td>\n",
       "      <td>POINT (342703.784 851072.092)</td>\n",
       "    </tr>\n",
       "    <tr>\n",
       "      <th>Dalwhinnie Distillery</th>\n",
       "      <td>Diageo plc</td>\n",
       "      <td>Highland Malt</td>\n",
       "      <td>https://www.malts.com/en-gb/distilleries/dalwh...</td>\n",
       "      <td></td>\n",
       "      <td>Dalwhinnie</td>\n",
       "      <td>629</td>\n",
       "      <td>POINT (263630.447 785394.478)</td>\n",
       "    </tr>\n",
       "    <tr>\n",
       "      <th>...</th>\n",
       "      <td>...</td>\n",
       "      <td>...</td>\n",
       "      <td>...</td>\n",
       "      <td>...</td>\n",
       "      <td>...</td>\n",
       "      <td>...</td>\n",
       "      <td>...</td>\n",
       "    </tr>\n",
       "    <tr>\n",
       "      <th>Bowmore Distillery</th>\n",
       "      <td>Beam Suntory</td>\n",
       "      <td>Islay Malt</td>\n",
       "      <td>https://www.bowmore.com/</td>\n",
       "      <td></td>\n",
       "      <td>Dunoon</td>\n",
       "      <td>88299</td>\n",
       "      <td>POINT (130891.450 659814.992)</td>\n",
       "    </tr>\n",
       "    <tr>\n",
       "      <th>Kilchoman Distillery</th>\n",
       "      <td>Kilchoman Distillery Co Ltd</td>\n",
       "      <td>Islay Malt</td>\n",
       "      <td>https://kilchomandistillery.com/</td>\n",
       "      <td></td>\n",
       "      <td>Oban</td>\n",
       "      <td>89367</td>\n",
       "      <td>POINT (124494.045 664780.041)</td>\n",
       "    </tr>\n",
       "    <tr>\n",
       "      <th>Bruichladdich Distillery</th>\n",
       "      <td>Bruichladdich Distillery Co Ltd</td>\n",
       "      <td>Islay Malt</td>\n",
       "      <td>https://www.bruichladdich.com/</td>\n",
       "      <td></td>\n",
       "      <td>Oban</td>\n",
       "      <td>89785</td>\n",
       "      <td>POINT (126703.348 662210.677)</td>\n",
       "    </tr>\n",
       "    <tr>\n",
       "      <th>Isle of Harris Distillery</th>\n",
       "      <td>Isle of Harris Distillers Ltd</td>\n",
       "      <td>Highland Malt</td>\n",
       "      <td>https://www.harrisdistillery.com/</td>\n",
       "      <td></td>\n",
       "      <td>Duirinish</td>\n",
       "      <td>92641</td>\n",
       "      <td>POINT (115376.094 899967.024)</td>\n",
       "    </tr>\n",
       "    <tr>\n",
       "      <th>Abhainn Dearg Distillery</th>\n",
       "      <td>Abhainn Dearg Distillery</td>\n",
       "      <td>Highland Malt</td>\n",
       "      <td>https://www.abhainndearg.co.uk/</td>\n",
       "      <td></td>\n",
       "      <td>Plockton</td>\n",
       "      <td>123371</td>\n",
       "      <td>POINT (103062.784 929832.862)</td>\n",
       "    </tr>\n",
       "  </tbody>\n",
       "</table>\n",
       "<p>136 rows × 7 columns</p>\n",
       "</div>"
      ],
      "text/plain": [
       "                                                     Owner    Description  \\\n",
       "Name                                                                        \n",
       "Oban Distillery                                Diageo plc   Highland Malt   \n",
       "The Borders Distillery            Three Stills Company Ltd   Lowland Malt   \n",
       "Strathisla Distillery                  Chivas Brothers Ltd  Speyside Malt   \n",
       "Glen Keith Distillery                  Chivas Brothers Ltd  Speyside Malt   \n",
       "Dalwhinnie Distillery                           Diageo plc  Highland Malt   \n",
       "...                                                    ...            ...   \n",
       "Bowmore Distillery                            Beam Suntory     Islay Malt   \n",
       "Kilchoman Distillery           Kilchoman Distillery Co Ltd     Islay Malt   \n",
       "Bruichladdich Distillery   Bruichladdich Distillery Co Ltd     Islay Malt   \n",
       "Isle of Harris Distillery    Isle of Harris Distillers Ltd  Highland Malt   \n",
       "Abhainn Dearg Distillery         Abhainn Dearg Distillery   Highland Malt   \n",
       "\n",
       "                                                                         Url  \\\n",
       "Name                                                                           \n",
       "Oban Distillery              https://www.malts.com/en-row/distilleries/oban/   \n",
       "The Borders Distillery                 https://www.thebordersdistillery.com/   \n",
       "Strathisla Distillery      https://www.maltwhiskydistilleries.com/strathi...   \n",
       "Glen Keith Distillery                                                          \n",
       "Dalwhinnie Distillery      https://www.malts.com/en-gb/distilleries/dalwh...   \n",
       "...                                                                      ...   \n",
       "Bowmore Distillery                                  https://www.bowmore.com/   \n",
       "Kilchoman Distillery                        https://kilchomandistillery.com/   \n",
       "Bruichladdich Distillery                      https://www.bruichladdich.com/   \n",
       "Isle of Harris Distillery                  https://www.harrisdistillery.com/   \n",
       "Abhainn Dearg Distillery                     https://www.abhainndearg.co.uk/   \n",
       "\n",
       "                          Address   Trainstop  Distance in m  \\\n",
       "Name                                                           \n",
       "Oban Distillery                          Oban            383   \n",
       "The Borders Distillery                 Hawick            461   \n",
       "Strathisla Distillery                   Keith            549   \n",
       "Glen Keith Distillery                   Keith            615   \n",
       "Dalwhinnie Distillery              Dalwhinnie            629   \n",
       "...                           ...         ...            ...   \n",
       "Bowmore Distillery                     Dunoon          88299   \n",
       "Kilchoman Distillery                     Oban          89367   \n",
       "Bruichladdich Distillery                 Oban          89785   \n",
       "Isle of Harris Distillery           Duirinish          92641   \n",
       "Abhainn Dearg Distillery             Plockton         123371   \n",
       "\n",
       "                                                geometry  \n",
       "Name                                                      \n",
       "Oban Distillery            POINT (185922.846 730169.492)  \n",
       "The Borders Distillery     POINT (350163.815 614729.139)  \n",
       "Strathisla Distillery      POINT (343035.051 851062.124)  \n",
       "Glen Keith Distillery      POINT (342703.784 851072.092)  \n",
       "Dalwhinnie Distillery      POINT (263630.447 785394.478)  \n",
       "...                                                  ...  \n",
       "Bowmore Distillery         POINT (130891.450 659814.992)  \n",
       "Kilchoman Distillery       POINT (124494.045 664780.041)  \n",
       "Bruichladdich Distillery   POINT (126703.348 662210.677)  \n",
       "Isle of Harris Distillery  POINT (115376.094 899967.024)  \n",
       "Abhainn Dearg Distillery   POINT (103062.784 929832.862)  \n",
       "\n",
       "[136 rows x 7 columns]"
      ]
     },
     "execution_count": 12,
     "metadata": {},
     "output_type": "execute_result"
    }
   ],
   "source": [
    "distilleries_stops"
   ]
  },
  {
   "cell_type": "code",
   "execution_count": 13,
   "metadata": {},
   "outputs": [
    {
     "name": "stdout",
     "output_type": "stream",
     "text": [
      "The total distance is 2601.97 km\n",
      "Visiting all distillieries requires to run 61.67 marathons\n",
      "The amount of whisky consumed assuming 3 x 35 ml per distillery is: 14.28 litres\n"
     ]
    }
   ],
   "source": [
    "# If you want to visit all distilleries:\n",
    "total_distance=distilleries_stops[\"Distance in m\"].sum() * 1e-3 # in km\n",
    "print(f\"The total distance is {total_distance:.2f} km\")\n",
    "print(f\"Visiting all distillieries requires to run {total_distance/42.195:.2f} marathons\")\n",
    "print(f\"The amount of whisky consumed assuming 3 x 35 ml per distillery is: {len(distilleries_stops.index)*3*0.035:.2f} litres\")"
   ]
  },
  {
   "cell_type": "markdown",
   "metadata": {},
   "source": [
    "Save in various formats"
   ]
  },
  {
   "cell_type": "code",
   "execution_count": 14,
   "metadata": {},
   "outputs": [],
   "source": [
    "# Change CRS to EPSG 4326\n",
    "distilleries_stops.to_crs(epsg=4326, inplace = True)\n",
    "\n",
    "# Save as GeoJson and use RFC7946 standard\n",
    "distilleries_stops.to_file(\"output/distilleries_result.geojson\", driver='GeoJSON', RFC7946=\"YES\")\n",
    "\n",
    "# Save as csv\n",
    "distilleries_stops.to_csv(\"output/distilleries_result.csv\")"
   ]
  }
 ],
 "metadata": {
  "kernelspec": {
   "display_name": "Python 3.9.13 ('pypsa-africa')",
   "language": "python",
   "name": "python3"
  },
  "language_info": {
   "codemirror_mode": {
    "name": "ipython",
    "version": 3
   },
   "file_extension": ".py",
   "mimetype": "text/x-python",
   "name": "python",
   "nbconvert_exporter": "python",
   "pygments_lexer": "ipython3",
   "version": "3.9.13"
  },
  "orig_nbformat": 4,
  "vscode": {
   "interpreter": {
    "hash": "d4783b90c31ddc11d3b01e737442d9214182b2321eb6e813ddb1a44db2ad1d92"
   }
  }
 },
 "nbformat": 4,
 "nbformat_minor": 2
}
