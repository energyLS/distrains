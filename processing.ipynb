{
 "cells": [
  {
   "attachments": {},
   "cell_type": "markdown",
   "metadata": {},
   "source": [
    "## Investigate and rank distance between scottish destilleries and train stops"
   ]
  },
  {
   "cell_type": "code",
   "execution_count": null,
   "metadata": {},
   "outputs": [],
   "source": [
    "import pandas as pd\n",
    "import geopandas as gpd"
   ]
  },
  {
   "attachments": {},
   "cell_type": "markdown",
   "metadata": {},
   "source": [
    "Read distillery data"
   ]
  },
  {
   "cell_type": "code",
   "execution_count": null,
   "metadata": {},
   "outputs": [],
   "source": [
    "try:\n",
    "    distilleries = gpd.read_file('https://raw.githubusercontent.com/mhamilt/completely-smashed/main/completely-smashed.geojson')\n",
    "except:\n",
    "    # Fallback to local data\n",
    "    distilleries = gpd.read_file('data/completely-smashed.geojson')"
   ]
  },
  {
   "attachments": {},
   "cell_type": "markdown",
   "metadata": {},
   "source": [
    "Prepare distillery data"
   ]
  },
  {
   "cell_type": "code",
   "execution_count": null,
   "metadata": {},
   "outputs": [],
   "source": [
    "# Manipulate data of Dalwhinnie Distillery, which is sligthly off. Actual position is at 56.939655,-4.2430025 (train station 56.934334,-4.246498)\n",
    "distilleries.set_index([\"Name\"], inplace=True)\n",
    "distilleries.at['Dalwhinnie Distillery', 'Lat'] = 56.939655\n",
    "distilleries.at['Dalwhinnie Distillery', 'Lng'] = -4.2430025\n",
    "\n",
    "# Delete one Loch Lomond distillery, this is a duplicate in the dataset\n",
    "distilleries.drop(\"Loch Lomond Distillery (1)\", inplace=True)\n",
    "\n",
    "# Change \"Speyside malt\" to \"Speyside Malt\"\n",
    "distilleries.replace({'Description': {'Speyside malt': 'Speyside Malt'}}, inplace=True)"
   ]
  },
  {
   "cell_type": "code",
   "execution_count": null,
   "metadata": {},
   "outputs": [],
   "source": [
    "distilleries.geometry=gpd.points_from_xy(distilleries.Lng, distilleries.Lat)"
   ]
  },
  {
   "cell_type": "code",
   "execution_count": null,
   "metadata": {},
   "outputs": [],
   "source": [
    "distilleries.to_crs(epsg=27700, inplace=True)"
   ]
  },
  {
   "attachments": {},
   "cell_type": "markdown",
   "metadata": {},
   "source": [
    "Read UK train stops data"
   ]
  },
  {
   "cell_type": "code",
   "execution_count": null,
   "metadata": {},
   "outputs": [],
   "source": [
    "try:\n",
    "    uk_stations = pd.read_csv('https://raw.githubusercontent.com/davwheat/uk-railway-stations/main/stations.csv', index_col=0)\n",
    "except:\n",
    "    uk_stations = pd.read_csv('data/stations.csv', index_col=0)"
   ]
  },
  {
   "attachments": {},
   "cell_type": "markdown",
   "metadata": {},
   "source": [
    "Prepare UK train stops data"
   ]
  },
  {
   "cell_type": "code",
   "execution_count": null,
   "metadata": {},
   "outputs": [],
   "source": [
    "uk_stations = gpd.GeoDataFrame(uk_stations, geometry=gpd.points_from_xy(uk_stations.long, uk_stations.lat))\n",
    "uk_stations.set_crs('EPSG:4326', inplace=True)\n",
    "uk_stations.to_crs(epsg=27700, inplace=True)"
   ]
  },
  {
   "cell_type": "markdown",
   "metadata": {},
   "source": [
    "Find closest train stop to each distillery"
   ]
  },
  {
   "cell_type": "code",
   "execution_count": null,
   "metadata": {},
   "outputs": [],
   "source": [
    "distilleries_stops = distilleries.sjoin_nearest(uk_stations, distance_col=\"Distance in m\")"
   ]
  },
  {
   "cell_type": "markdown",
   "metadata": {},
   "source": [
    "Sort by distance & round"
   ]
  },
  {
   "cell_type": "code",
   "execution_count": null,
   "metadata": {},
   "outputs": [],
   "source": [
    "distilleries_stops = distilleries_stops.sort_values(by=[\"Distance in m\"])\n",
    "distilleries_stops[\"Distance in m\"] = round(distilleries_stops[\"Distance in m\"]).astype(int)"
   ]
  },
  {
   "cell_type": "markdown",
   "metadata": {},
   "source": [
    "Filter columns and rename"
   ]
  },
  {
   "cell_type": "code",
   "execution_count": null,
   "metadata": {},
   "outputs": [],
   "source": [
    "distilleries_stops = distilleries_stops[[\"Owner\", \"Description\", \"Url\", \"Address\", \"index_right\", \"Distance in m\", \"geometry\"]].rename(columns={\"index_right\": \"Trainstop\"})"
   ]
  },
  {
   "attachments": {},
   "cell_type": "markdown",
   "metadata": {},
   "source": [
    "Provide basic statistics"
   ]
  },
  {
   "cell_type": "code",
   "execution_count": null,
   "metadata": {},
   "outputs": [],
   "source": [
    "distilleries_stops.describe()"
   ]
  },
  {
   "cell_type": "code",
   "execution_count": null,
   "metadata": {},
   "outputs": [],
   "source": [
    "distilleries_stops"
   ]
  },
  {
   "cell_type": "code",
   "execution_count": null,
   "metadata": {},
   "outputs": [],
   "source": [
    "# If you want to visit all distilleries:\n",
    "total_distance=distilleries_stops[\"Distance in m\"].sum() * 1e-3 # in km\n",
    "print(f\"The total distance is {total_distance:.2f} km\")\n",
    "print(f\"Visiting all distillieries requires to run {total_distance/42.195:.2f} marathons\")\n",
    "print(f\"The amount of whisky consumed assuming 3 x 35 ml per distillery is: {len(distilleries_stops.index)*3*0.035:.2f} litres\")"
   ]
  },
  {
   "cell_type": "markdown",
   "metadata": {},
   "source": [
    "Save in various formats"
   ]
  },
  {
   "cell_type": "code",
   "execution_count": null,
   "metadata": {},
   "outputs": [],
   "source": [
    "# Change CRS to EPSG 4326\n",
    "distilleries_stops.to_crs(epsg=4326, inplace = True)\n",
    "\n",
    "# Save as GeoJson and use RFC7946 standard\n",
    "distilleries_stops.to_file(\"output/distilleries_result.geojson\", driver='GeoJSON', RFC7946=\"YES\")\n",
    "\n",
    "# Save as csv\n",
    "distilleries_stops.to_csv(\"output/distilleries_result.csv\")"
   ]
  }
 ],
 "metadata": {
  "kernelspec": {
   "display_name": "Python 3.9.13 ('pypsa-africa')",
   "language": "python",
   "name": "python3"
  },
  "language_info": {
   "codemirror_mode": {
    "name": "ipython",
    "version": 3
   },
   "file_extension": ".py",
   "mimetype": "text/x-python",
   "name": "python",
   "nbconvert_exporter": "python",
   "pygments_lexer": "ipython3",
   "version": "3.9.13"
  },
  "orig_nbformat": 4,
  "vscode": {
   "interpreter": {
    "hash": "d4783b90c31ddc11d3b01e737442d9214182b2321eb6e813ddb1a44db2ad1d92"
   }
  }
 },
 "nbformat": 4,
 "nbformat_minor": 2
}
